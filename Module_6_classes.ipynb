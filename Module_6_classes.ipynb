{
 "cells": [
  {
   "cell_type": "code",
   "execution_count": 30,
   "metadata": {},
   "outputs": [],
   "source": [
    "class Phone: # define a class\n",
    "    \n",
    "    def make_call(self): # define method \n",
    "        \n",
    "        print(\"I am making call\")\n",
    "    \n",
    "    def play_game(self): # define a method\n",
    "        \n",
    "        print(\"I am playing game\")\n",
    "    "
   ]
  },
  {
   "cell_type": "code",
   "execution_count": 31,
   "metadata": {},
   "outputs": [],
   "source": [
    "# create object of the phone class\n",
    "p1 = Phone()"
   ]
  },
  {
   "cell_type": "code",
   "execution_count": 32,
   "metadata": {},
   "outputs": [
    {
     "name": "stdout",
     "output_type": "stream",
     "text": [
      "I am making call\n"
     ]
    }
   ],
   "source": [
    "# call the method of the class using class object\n",
    "p1.make_call()"
   ]
  },
  {
   "cell_type": "code",
   "execution_count": 33,
   "metadata": {},
   "outputs": [
    {
     "name": "stdout",
     "output_type": "stream",
     "text": [
      "I am playing game\n"
     ]
    }
   ],
   "source": [
    "# call the 2nd method of the class using class object\n",
    "p1.play_game()"
   ]
  },
  {
   "cell_type": "code",
   "execution_count": 10,
   "metadata": {},
   "outputs": [],
   "source": [
    "# addin perameter to the class\n",
    "# define a class\n",
    "class Phone2:\n",
    "    \n",
    "    def set_color(self , color):\n",
    "        \n",
    "        self.mobile_color = color\n",
    "        \n",
    "    def set_cost(self , cost):\n",
    "        \n",
    "        self.mobile_cost = cost\n",
    "        \n",
    "    def show_color(self):\n",
    "        \n",
    "        return self.mobile_color\n",
    "    \n",
    "    def show_cost(self):\n",
    "        \n",
    "        return self.mobile_cost\n",
    "    \n",
    "    def make_call(self): # define method \n",
    "        \n",
    "        print(\"I am making call\")\n",
    "    \n",
    "    def play_game(self): # define a method\n",
    "        \n",
    "        print(\"I am playing game\")\n",
    "        \n",
    "    "
   ]
  },
  {
   "cell_type": "code",
   "execution_count": 11,
   "metadata": {},
   "outputs": [],
   "source": [
    "# above we have successfully define a class\n",
    "# here now we will create a object of the above class\n",
    "p1 = Phone2()"
   ]
  },
  {
   "cell_type": "code",
   "execution_count": 13,
   "metadata": {},
   "outputs": [],
   "source": [
    "# now we will asigne color to the set_color method and price to set_cost method \n",
    "p1.set_color(\"red\")\n",
    "p1.set_cost(20000)\n"
   ]
  },
  {
   "cell_type": "code",
   "execution_count": 16,
   "metadata": {},
   "outputs": [
    {
     "name": "stdout",
     "output_type": "stream",
     "text": [
      "color is : red\n",
      "price of the mobile is: 20000\n"
     ]
    }
   ],
   "source": [
    "print(\"color is :\" , p1.show_color())\n",
    "print(\"price of the mobile is:\" , p1.show_cost())"
   ]
  },
  {
   "cell_type": "markdown",
   "metadata": {},
   "source": [
    "# constructor "
   ]
  },
  {
   "cell_type": "code",
   "execution_count": 43,
   "metadata": {},
   "outputs": [],
   "source": [
    "# constructor is a special type of method\n",
    "\n",
    "# first i will create a class  with the name of Employee\n",
    "class Employee:\n",
    "    \n",
    "    # now i am creating constructor \n",
    "    \n",
    "    def __init__(self , name , age , salary , gender):\n",
    "        \n",
    "        self.name = name\n",
    "        self.age = age\n",
    "        self.salary = salary\n",
    "        self.gender = gender\n",
    "        \n",
    "    # now i am going to define a method that will show the values of the constructor perametor\n",
    "    \n",
    "    def show_employee_detail(self):\n",
    "        print(\"Name Of Employee is :\" , self.name)\n",
    "        print(\"Age Of Employee is :\" , self.age)\n",
    "        print(\"Salary Of the Employee is:\" , self.salary)\n",
    "        print(\"Gender Of The Employee is :\" , self.gender)"
   ]
  },
  {
   "cell_type": "code",
   "execution_count": 44,
   "metadata": {},
   "outputs": [],
   "source": [
    "e1 = Employee(\"Salman Ahmad\" , 24 , 1000000 , \"Male\")\n"
   ]
  },
  {
   "cell_type": "code",
   "execution_count": 48,
   "metadata": {},
   "outputs": [
    {
     "name": "stdout",
     "output_type": "stream",
     "text": [
      "Name Of Employee is : Salman Ahmad\n",
      "Age Of Employee is : 24\n",
      "Salary Of the Employee is: 1000000\n",
      "Gender Of The Employee is : Male\n"
     ]
    }
   ],
   "source": [
    "e1.show_employee_detail()"
   ]
  },
  {
   "cell_type": "markdown",
   "metadata": {},
   "source": [
    "# inheritance"
   ]
  },
  {
   "cell_type": "code",
   "execution_count": 50,
   "metadata": {},
   "outputs": [
    {
     "name": "stdout",
     "output_type": "stream",
     "text": [
      "Mileage of the vehicle is : 100\n",
      "Cost of the vehicle is : 300\n"
     ]
    }
   ],
   "source": [
    "# define a class with constructor and methods\n",
    "class Vehicle:\n",
    "    \n",
    "    def __init__(self , mileage , cost):\n",
    "        \n",
    "        self.vehicle_mileage = mileage\n",
    "        self.vehicle_cost = cost\n",
    "        \n",
    "    def show_vehicle_detail(self):\n",
    "        \n",
    "        print(\"Mileage of the vehicle is :\" , self.vehicle_mileage)\n",
    "        print(\"Cost of the vehicle is :\" , self.vehicle_cost)\n",
    "\n",
    "        \n",
    "#  creatin an instance of the class\n",
    "vehicle1 = Vehicle(100 , 300)\n",
    "    \n",
    "vehicle1.show_vehicle_detail()    "
   ]
  },
  {
   "cell_type": "code",
   "execution_count": 61,
   "metadata": {},
   "outputs": [
    {
     "name": "stdout",
     "output_type": "stream",
     "text": [
      "Mileage of the vehicle is : 200\n",
      "Cost of the vehicle is : 700\n"
     ]
    }
   ],
   "source": [
    "# now i am creating sub class or child class of the vehicle\n",
    "\n",
    "class car(Vehicle):\n",
    "    \n",
    "    # creating method of the child class\n",
    "    def show_car_details(self):\n",
    "        print(\"I am a car\")\n",
    "\n",
    "        \n",
    "# creating instance of the car class\n",
    "\n",
    "car1 = car(200 , 700)\n",
    "car1.show_vehicle_detail()\n",
    "\n",
    "#print(\"The above are the detail of the child class:\" , car1.show_car_details())\n",
    "#print(\"The above are the detail of the parent class :\" , car1.show_vehicle_detail())\n",
    "    "
   ]
  },
  {
   "cell_type": "code",
   "execution_count": 62,
   "metadata": {},
   "outputs": [
    {
     "name": "stdout",
     "output_type": "stream",
     "text": [
      "I am a car\n"
     ]
    }
   ],
   "source": [
    "car1.show_car_details()"
   ]
  },
  {
   "cell_type": "markdown",
   "metadata": {},
   "source": [
    "# Over-riding init method or constructor"
   ]
  },
  {
   "cell_type": "code",
   "execution_count": 1,
   "metadata": {},
   "outputs": [
    {
     "name": "stdout",
     "output_type": "stream",
     "text": [
      "Mileage of the vehicle is : 100\n",
      "Cost of the vehicle is : 300\n"
     ]
    }
   ],
   "source": [
    "# define a class with constructor and methods\n",
    "class Vehicle:\n",
    "    \n",
    "    def __init__(self , mileage , cost):\n",
    "        \n",
    "        self.vehicle_mileage = mileage\n",
    "        self.vehicle_cost = cost\n",
    "        \n",
    "    def show_vehicle_detail(self):\n",
    "        \n",
    "        print(\"Mileage of the vehicle is :\" , self.vehicle_mileage)\n",
    "        print(\"Cost of the vehicle is :\" , self.vehicle_cost)\n",
    "\n",
    "        \n",
    "#  creating an instance of the class\n",
    "vehicle1 = Vehicle(100 , 300)\n",
    "    \n",
    "vehicle1.show_vehicle_detail()    "
   ]
  },
  {
   "cell_type": "code",
   "execution_count": 90,
   "metadata": {},
   "outputs": [
    {
     "name": "stdout",
     "output_type": "stream",
     "text": [
      "Tyre in the car is  6\n",
      "Hours power of the car is :  200 ms\n",
      "I am a car\n"
     ]
    }
   ],
   "source": [
    "class car(Vehicle):\n",
    "    \n",
    "    def __init__(self , mileage , cost , tyre , hp):\n",
    "        \n",
    "        super().__init__(mileage , cost)\n",
    "        \n",
    "        self.car_tyre = tyre\n",
    "        self.car_hp = hp\n",
    "        \n",
    "        \n",
    "    def show_car_details(self):\n",
    "        \n",
    "        print(\"Tyre in the car is \" , self.car_tyre)\n",
    "        print(\"Hours power of the car is : \" , self.car_hp , \"ms\")\n",
    "        print(\"I am a car\")\n",
    "    \n",
    "\n",
    "car2 = car(100 , 500 , 6 , 200)\n",
    "car2.show_car_details()        "
   ]
  },
  {
   "cell_type": "code",
   "execution_count": 9,
   "metadata": {},
   "outputs": [
    {
     "name": "stdout",
     "output_type": "stream",
     "text": [
      "Mileage of the vehicle is : 100\n",
      "Cost of the vehicle is : 500\n"
     ]
    }
   ],
   "source": [
    "car2.show_vehicle_detail()"
   ]
  },
  {
   "cell_type": "markdown",
   "metadata": {},
   "source": [
    "# Multiple inheritance"
   ]
  },
  {
   "cell_type": "code",
   "execution_count": 11,
   "metadata": {},
   "outputs": [],
   "source": [
    "class Parent1:\n",
    "    \n",
    "    def assign_string_one(self , string1):\n",
    "        self.string1 = string1\n",
    "        \n",
    "    def show_string_one(self):\n",
    "        \n",
    "        return (self.string1)"
   ]
  },
  {
   "cell_type": "code",
   "execution_count": 24,
   "metadata": {},
   "outputs": [],
   "source": [
    "class Parent2:\n",
    "    \n",
    "    def assign_string_two( self , string2):\n",
    "        \n",
    "        self.string2 = string2\n",
    "        \n",
    "    def show_string_two(self):\n",
    "        \n",
    "        return (self.string2)\n",
    "    \n"
   ]
  },
  {
   "cell_type": "code",
   "execution_count": 25,
   "metadata": {},
   "outputs": [],
   "source": [
    "class child(Parent1 , Parent2):\n",
    "    \n",
    "    def assign_string_three(self , string3):\n",
    "        \n",
    "        self.string3 = string3\n",
    "    \n",
    "    def show_string_three(self):\n",
    "        \n",
    "        return (self.string3)\n",
    "    \n"
   ]
  },
  {
   "cell_type": "code",
   "execution_count": 26,
   "metadata": {},
   "outputs": [],
   "source": [
    "my_child = child()"
   ]
  },
  {
   "cell_type": "code",
   "execution_count": 27,
   "metadata": {},
   "outputs": [
    {
     "data": {
      "text/plain": [
       "'I am a string of parrent one'"
      ]
     },
     "execution_count": 27,
     "metadata": {},
     "output_type": "execute_result"
    }
   ],
   "source": [
    "my_child.assign_string_one(\"I am a string of parrent one\")\n",
    "my_child.show_string_one()"
   ]
  },
  {
   "cell_type": "code",
   "execution_count": 28,
   "metadata": {},
   "outputs": [
    {
     "data": {
      "text/plain": [
       "'I am string of parent two'"
      ]
     },
     "execution_count": 28,
     "metadata": {},
     "output_type": "execute_result"
    }
   ],
   "source": [
    "my_child.assign_string_two(\"I am string of parent two\")\n",
    "my_child.show_string_two()"
   ]
  },
  {
   "cell_type": "code",
   "execution_count": 29,
   "metadata": {},
   "outputs": [
    {
     "data": {
      "text/plain": [
       "'I am string of parent three'"
      ]
     },
     "execution_count": 29,
     "metadata": {},
     "output_type": "execute_result"
    }
   ],
   "source": [
    "my_child.assign_string_three(\"I am string of parent three\")\n",
    "my_child.show_string_three()"
   ]
  },
  {
   "cell_type": "code",
   "execution_count": null,
   "metadata": {},
   "outputs": [],
   "source": []
  },
  {
   "cell_type": "code",
   "execution_count": 58,
   "metadata": {},
   "outputs": [],
   "source": [
    "class ParentOne:\n",
    "    \n",
    "    def assign_string_one(self , str1):\n",
    "        \n",
    "        self.parent1_string1 = str1\n",
    "        \n",
    "    def show_string_one(self):\n",
    "        \n",
    "        return self.parent1_string1\n",
    "\n",
    "        "
   ]
  },
  {
   "cell_type": "code",
   "execution_count": 67,
   "metadata": {},
   "outputs": [],
   "source": [
    "class ParentTwo:\n",
    "    \n",
    "    def assign_string_two(self , str2):\n",
    "        \n",
    "        self.string = str2\n",
    "        \n",
    "    def show_string_two(self):\n",
    "        \n",
    "        return (self.string)\n",
    "    \n",
    "    \n"
   ]
  },
  {
   "cell_type": "code",
   "execution_count": 68,
   "metadata": {},
   "outputs": [],
   "source": [
    "class Child(ParentOne , ParentTwo):\n",
    "    \n",
    "    def assign_string_three(self , str3):\n",
    "        \n",
    "        self.child_string = str3\n",
    "    \n",
    "    def show_string_three(self):\n",
    "        \n",
    "        return self.child_string\n",
    "    "
   ]
  },
  {
   "cell_type": "code",
   "execution_count": 69,
   "metadata": {},
   "outputs": [],
   "source": [
    "instance = Child()"
   ]
  },
  {
   "cell_type": "code",
   "execution_count": 86,
   "metadata": {},
   "outputs": [
    {
     "data": {
      "text/plain": [
       "'I am string of Parent One'"
      ]
     },
     "execution_count": 86,
     "metadata": {},
     "output_type": "execute_result"
    }
   ],
   "source": [
    "instance.assign_string_one(\"I am string of Parent One\")\n",
    "instance.assign_string_two(\"I am string of parent two\")\n",
    "instance.assign_string_three(\"I am  string of parent three\")\n",
    "\n",
    "instance.show_string_one()"
   ]
  },
  {
   "cell_type": "code",
   "execution_count": 87,
   "metadata": {},
   "outputs": [
    {
     "data": {
      "text/plain": [
       "'I am string of parent two'"
      ]
     },
     "execution_count": 87,
     "metadata": {},
     "output_type": "execute_result"
    }
   ],
   "source": [
    "instance.show_string_two()"
   ]
  },
  {
   "cell_type": "code",
   "execution_count": 138,
   "metadata": {},
   "outputs": [
    {
     "data": {
      "text/plain": [
       "'I am  string of parent three'"
      ]
     },
     "execution_count": 138,
     "metadata": {},
     "output_type": "execute_result"
    }
   ],
   "source": [
    "\n",
    "instance.show_string_three()"
   ]
  },
  {
   "cell_type": "markdown",
   "metadata": {},
   "source": [
    "# Multilevel Inheritance"
   ]
  },
  {
   "cell_type": "code",
   "execution_count": 146,
   "metadata": {},
   "outputs": [],
   "source": [
    "class Parent:\n",
    "    \n",
    "    def employee_name(self , name):\n",
    "        \n",
    "        self.name = name\n",
    "        print(self.name)"
   ]
  },
  {
   "cell_type": "code",
   "execution_count": 147,
   "metadata": {},
   "outputs": [],
   "source": [
    "class Child(Parent):\n",
    "    \n",
    "    def employee_age(self , age):\n",
    "        \n",
    "        self.age = age\n",
    "        \n",
    "        print(self.age)"
   ]
  },
  {
   "cell_type": "code",
   "execution_count": 148,
   "metadata": {},
   "outputs": [],
   "source": [
    "class GrandChild(Child):\n",
    "    \n",
    "    def employee_sallary(self , salary):\n",
    "        \n",
    "        self.salary = salary\n",
    "        \n",
    "        print(self.salary)"
   ]
  },
  {
   "cell_type": "code",
   "execution_count": 149,
   "metadata": {},
   "outputs": [],
   "source": [
    "ins_g = GrandChild()"
   ]
  },
  {
   "cell_type": "code",
   "execution_count": 150,
   "metadata": {},
   "outputs": [
    {
     "name": "stdout",
     "output_type": "stream",
     "text": [
      "Name of the Employee is 'Salmana Ahmad'\n",
      "Age of the employee is  '24'\n",
      "Salary of the employee is '10000000'\n"
     ]
    }
   ],
   "source": [
    "ins_g.employee_name(\"Name of the Employee is 'Salmana Ahmad'\")\n",
    "ins_g.employee_age(\"Age of the employee is  '24'\")\n",
    "ins_g.employee_sallary(\"Salary of the employee is '10000000'\")"
   ]
  },
  {
   "cell_type": "code",
   "execution_count": 3,
   "metadata": {},
   "outputs": [
    {
     "name": "stdout",
     "output_type": "stream",
     "text": [
      "'CoreI5' '5th generation' '256 SSD' \n",
      "'CoreI5' '5th generation' '256 SSD' \n"
     ]
    }
   ],
   "source": [
    "# class and object\n",
    "\n",
    "class Computer:\n",
    "    \n",
    "    def features(self):\n",
    "        \n",
    "        \n",
    "        \n",
    "        print(\"'CoreI5' '5th generation' '256 SSD' \")\n",
    "        \n",
    "computer1 = Computer()\n",
    "computer1.features()\n",
    "# access the function through class\n",
    "\n",
    "Computer.features(computer1)        \n"
   ]
  },
  {
   "cell_type": "code",
   "execution_count": 23,
   "metadata": {},
   "outputs": [
    {
     "name": "stdout",
     "output_type": "stream",
     "text": [
      "hi\n",
      "hi\n",
      "Ram of computer is : 16\n",
      "SSD of computer is : 256\n",
      "Processor is : I5\n",
      "Ram of computer is : 32\n",
      "SSD of computer is : 512\n",
      "Processor is : I5\n"
     ]
    }
   ],
   "source": [
    "# instance variable class variable\n",
    "# class and object\n",
    "# instance variable are write in seperate method and class varible are write in class\n",
    "class Computer:\n",
    "    # instance varible we are define in special or init method\n",
    "    def __init__(self , ram , ssd , processor):\n",
    "        self.com_ram = ram\n",
    "        self.com_ssd = ssd\n",
    "        self.processor = \"I5\"\n",
    "        print(\"hi\")\n",
    "        \n",
    "    def features(self):\n",
    "        \n",
    "        print(\"Ram of computer is :\" , self.com_ram)\n",
    "        print(\"SSD of computer is :\" , self.com_ssd)\n",
    "        print(\"Processor is :\" , self.processor)\n",
    "        \n",
    "\n",
    "        \n",
    "com1 = Computer(16 , 256 , \"i7\")\n",
    "com2 = Computer(32 , 512 , \"i7\")\n",
    "com1.features()\n",
    "com2.features()\n",
    " \n"
   ]
  },
  {
   "cell_type": "code",
   "execution_count": null,
   "metadata": {},
   "outputs": [],
   "source": []
  }
 ],
 "metadata": {
  "kernelspec": {
   "display_name": "Python 3",
   "language": "python",
   "name": "python3"
  },
  "language_info": {
   "codemirror_mode": {
    "name": "ipython",
    "version": 3
   },
   "file_extension": ".py",
   "mimetype": "text/x-python",
   "name": "python",
   "nbconvert_exporter": "python",
   "pygments_lexer": "ipython3",
   "version": "3.7.3"
  }
 },
 "nbformat": 4,
 "nbformat_minor": 5
}
